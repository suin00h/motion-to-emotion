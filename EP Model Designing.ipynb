{
 "cells": [
  {
   "cell_type": "markdown",
   "metadata": {
    "id": "ttvZkYdqpC5-"
   },
   "source": [
    "## 1. Packages and Parameters"
   ]
  },
  {
   "cell_type": "code",
   "execution_count": 1,
   "metadata": {
    "id": "HC1tvfoUqlM9"
   },
   "outputs": [],
   "source": [
    "import numpy as np\n",
    "import matplotlib.pyplot as plt\n",
    "import pandas as pd\n",
    "import pickle\n",
    "from tqdm import tqdm\n",
    "from utils.visualize import show_loss\n",
    "from utils.data import collate_EP\n",
    "\n",
    "import torch\n",
    "import torch.nn as nn\n",
    "import torch.optim as opt\n",
    "from torch.utils.data import Dataset, DataLoader, random_split"
   ]
  },
  {
   "cell_type": "code",
   "execution_count": 2,
   "metadata": {
    "id": "XSMOu8VHvMoK"
   },
   "outputs": [],
   "source": [
    "# hyperparameters\n",
    "BATCH_SIZE = 256\n",
    "EPOCH = 100\n",
    "LEARNING_RATE = 2e-5\n",
    "MAX_FRAME = 200\n",
    "DIM_TOKEN = 256\n",
    "NUM_HEAD = 8\n",
    "DROPOUT_PROB = 1e-1\n",
    "\n",
    "# dictionary for classification\n",
    "dict_class = {\n",
    "    'action': ['bodylower', 'bodyscratch', 'bodyshake',\n",
    "               'feetup', 'footup', 'heading', 'lying',\n",
    "               'mounting', 'sit', 'tailing', 'taillow',\n",
    "               'turn', 'walkrun'],\n",
    "    'emotion': ['aggresive', 'feared', 'anxiety',\n",
    "                'relaxed', 'excited', 'offended'],\n",
    "}\n",
    "num_action = len(dict_class['action'])\n",
    "num_emotion = len(dict_class['emotion'])"
   ]
  },
  {
   "cell_type": "code",
   "execution_count": 3,
   "metadata": {
    "id": "wYTO4GbVrZMG",
    "scrolled": true
   },
   "outputs": [
    {
     "name": "stdout",
     "output_type": "stream",
     "text": [
      "Device: cuda\n"
     ]
    }
   ],
   "source": [
    "device = torch.device('cuda') if torch.cuda.is_available() else torch.device('cpu')\n",
    "print(f'Device: {device}')"
   ]
  },
  {
   "cell_type": "markdown",
   "metadata": {
    "id": "6MydEmH5fiCq"
   },
   "source": [
    "## 2. Dataset"
   ]
  },
  {
   "cell_type": "markdown",
   "metadata": {},
   "source": [
    "### 2.1 Load label"
   ]
  },
  {
   "cell_type": "code",
   "execution_count": 2,
   "metadata": {},
   "outputs": [],
   "source": [
    "label_train = pd.read_pickle('data/key_label_train')\n",
    "label_val = pd.read_pickle('data/key_label_val')"
   ]
  },
  {
   "cell_type": "markdown",
   "metadata": {},
   "source": [
    "### 2.2 Dataset and dataloader"
   ]
  },
  {
   "cell_type": "code",
   "execution_count": 75,
   "metadata": {
    "id": "CBEbcwu_flNj"
   },
   "outputs": [],
   "source": [
    "class KeyDataset(Dataset):\n",
    "    def __init__(self, label):\n",
    "        self.label = label\n",
    "\n",
    "    def __len__(self):\n",
    "        return len(self.label)\n",
    "\n",
    "    def __getitem__(self, idx):\n",
    "        keys, action, emotion = self.label.iloc[idx].values\n",
    "        N, _, _ = keys.shape\n",
    "        if N > 20:\n",
    "            offset = np.random.randint(N-19)\n",
    "            keys = keys[offset:offset+20]\n",
    "\n",
    "        return keys, action, emotion"
   ]
  },
  {
   "cell_type": "code",
   "execution_count": 100,
   "metadata": {
    "id": "ss21hsLKx2Wq"
   },
   "outputs": [],
   "source": [
    "# dataset for training\n",
    "train_dataset = KeyDataset(label_train)\n",
    "train_dataloader = DataLoader(\n",
    "    train_dataset,\n",
    "    batch_size=BATCH_SIZE,\n",
    "    collate_fn=collate_EP,\n",
    "    shuffle=True,\n",
    "    num_workers=4,\n",
    "    pin_memory=True\n",
    ")"
   ]
  },
  {
   "cell_type": "code",
   "execution_count": 79,
   "metadata": {},
   "outputs": [],
   "source": [
    "# dataset for validation and test\n",
    "temp_dataset = KeyDataset(label_val)\n",
    "\n",
    "dataset_size = len(temp_dataset)\n",
    "val_size = int(dataset_size * 0.5)\n",
    "test_size = dataset_size - val_size\n",
    "\n",
    "val_dataset, test_dataset = random_split(temp_dataset, [val_size, test_size])\n",
    "\n",
    "val_dataloader = DataLoader(\n",
    "    val_dataset,\n",
    "    batch_size=BATCH_SIZE,\n",
    "    collate_fn=collate_EP,\n",
    "    shuffle=True,\n",
    "    num_workers=4,\n",
    "    pin_memory=True\n",
    ")\n",
    "test_dataloader = DataLoader(\n",
    "    test_dataset,\n",
    "    batch_size=BATCH_SIZE,\n",
    "    collate_fn=collate_EP,\n",
    "    shuffle=True,\n",
    "    num_workers=4,\n",
    "    pin_memory=True\n",
    ")"
   ]
  },
  {
   "cell_type": "markdown",
   "metadata": {},
   "source": [
    "### 3.3 Check for a batch"
   ]
  },
  {
   "cell_type": "code",
   "execution_count": 101,
   "metadata": {
    "id": "7S3RnBZH2qm-",
    "scrolled": true
   },
   "outputs": [],
   "source": [
    "train_keys = next(iter(train_dataloader))"
   ]
  },
  {
   "cell_type": "code",
   "execution_count": 102,
   "metadata": {
    "scrolled": false
   },
   "outputs": [
    {
     "name": "stdout",
     "output_type": "stream",
     "text": [
      "dict_keys(['keys', 'action', 'emotion'])\n",
      "torch.Size([256, 14, 15, 3])\n",
      "torch.Size([256, 13])\n",
      "torch.Size([256, 6])\n"
     ]
    }
   ],
   "source": [
    "print(train_keys.keys())\n",
    "print(train_keys['keys'].shape)\n",
    "print(train_keys['action'].shape)\n",
    "print(train_keys['emotion'].shape)"
   ]
  },
  {
   "cell_type": "markdown",
   "metadata": {
    "id": "U2M1gRU9Ntbo"
   },
   "source": [
    "## 3. Emotion Prediction\n",
    "    - Input: ...\n",
    "    - Output: ..."
   ]
  },
  {
   "cell_type": "markdown",
   "metadata": {},
   "source": [
    "### 3.1 Model define"
   ]
  },
  {
   "cell_type": "code",
   "execution_count": 82,
   "metadata": {},
   "outputs": [],
   "source": [
    "from torch.nn import TransformerEncoder as trEnc\n",
    "from torch.nn import TransformerEncoderLayer as trEncLayer"
   ]
  },
  {
   "cell_type": "code",
   "execution_count": 83,
   "metadata": {},
   "outputs": [],
   "source": [
    "class EPencoder(nn.Module):\n",
    "    def __init__(self, C_in):\n",
    "        super().__init__()\n",
    "        \n",
    "        # layers\n",
    "        self.encoder_layer = trEncLayer(d_model=DIM_TOKEN,\n",
    "                                        nhead=DIM_TOKEN // NUM_HEAD,\n",
    "                                        activation='gelu',\n",
    "                                        batch_first=True,\n",
    "                                        norm_first=True)\n",
    "        self.encoder = trEnc(encoder_layer=self.encoder_layer, \n",
    "                             num_layers=6)\n",
    "        self.mlp_action = self.get_MLP(num_action)\n",
    "        self.mlp_emotion = self.get_MLP(num_emotion)\n",
    "        self.dropout = nn.Dropout(DROPOUT_PROB)\n",
    "        self.linear = nn.Linear(C_in, DIM_TOKEN)\n",
    "        \n",
    "        # tokens\n",
    "        self.pos_embedding = nn.Parameter(torch.randn(1, MAX_FRAME + 2, DIM_TOKEN))\n",
    "        self.action_token = nn.Parameter(torch.randn(1, 1, DIM_TOKEN))\n",
    "        self.emotion_token = nn.Parameter(torch.randn(1, 1, DIM_TOKEN))\n",
    "        \n",
    "    def get_MLP(self, len_cls):\n",
    "        return nn.Sequential(nn.LayerNorm(DIM_TOKEN),\n",
    "                             nn.Linear(DIM_TOKEN, len_cls),\n",
    "                             nn.Softmax(1))\n",
    "\n",
    "    def forward(self, x):   \n",
    "        x = torch.flatten(x, 2) # [B, N, 15, 3] -> [B, N, 45]\n",
    "        B, N, _ = x.shape             \n",
    "        x = self.linear(x)      # [B, N, 45] -> [B, N, 256]\n",
    "        \n",
    "        act_token = self.action_token.repeat(B, 1, 1)\n",
    "        emo_token = self.emotion_token.repeat(B, 1, 1)\n",
    "        x = torch.cat((act_token, emo_token, x), dim=1)\n",
    "        \n",
    "        x += self.pos_embedding[:, :(N + 2)]\n",
    "        x = self.dropout(x)\n",
    "        \n",
    "        x = self.encoder(x)\n",
    "        \n",
    "        act_output = x[:, 0]\n",
    "        emo_output = x[:, 1]\n",
    "        \n",
    "        return self.mlp_action(act_output), self.mlp_emotion(emo_output)"
   ]
  },
  {
   "cell_type": "code",
   "execution_count": 84,
   "metadata": {},
   "outputs": [],
   "source": [
    "model_EP = EPencoder(45)\n",
    "model_EP = model_EP.double().to(device)"
   ]
  },
  {
   "cell_type": "markdown",
   "metadata": {
    "id": "TpFZ2G1SHsE3"
   },
   "source": [
    "### 3.2 Training"
   ]
  },
  {
   "cell_type": "code",
   "execution_count": 11,
   "metadata": {
    "id": "44lOrRDWH0Bc"
   },
   "outputs": [],
   "source": [
    "model_EP = model_EP.train()"
   ]
  },
  {
   "cell_type": "code",
   "execution_count": 85,
   "metadata": {
    "id": "C5USqpcFrG2z"
   },
   "outputs": [],
   "source": [
    "criterion = nn.CrossEntropyLoss()\n",
    "optimizer = opt.Adam(model_EP.parameters(), lr=LEARNING_RATE)\n",
    "\n",
    "train_avg_losses = []\n",
    "train_accs_act = []\n",
    "train_accs_emo = []\n",
    "val_avg_losses = []\n",
    "val_accs_act = []\n",
    "val_accs_emo = []"
   ]
  },
  {
   "cell_type": "code",
   "execution_count": 33,
   "metadata": {
    "id": "QxVhysfPpqM9"
   },
   "outputs": [
    {
     "name": "stdout",
     "output_type": "stream",
     "text": [
      "Epoch   1/100 | Avg Train loss        : 3.9065 | Avg Val loss          : 4.0302 |\n",
      "              | Train action accuracy : 0.2972 | Train emotion accuracy: 0.5490 | \n",
      "              | Val action accuracy   : 0.1589 | Val emotion accuracy  : 0.5461 | \n",
      "Epoch   6/100 | Avg Train loss        : 3.7225 | Avg Val loss          : 4.0185 |\n",
      "              | Train action accuracy : 0.4280 | Train emotion accuracy: 0.5693 | \n",
      "              | Val action accuracy   : 0.1589 | Val emotion accuracy  : 0.5469 | \n",
      "Epoch  11/100 | Avg Train loss        : 3.6977 | Avg Val loss          : 4.0114 |\n",
      "              | Train action accuracy : 0.4397 | Train emotion accuracy: 0.5864 | \n",
      "              | Val action accuracy   : 0.1593 | Val emotion accuracy  : 0.5509 | \n",
      "Epoch  16/100 | Avg Train loss        : 3.6898 | Avg Val loss          : 4.0206 |\n",
      "              | Train action accuracy : 0.4418 | Train emotion accuracy: 0.5924 | \n",
      "              | Val action accuracy   : 0.1593 | Val emotion accuracy  : 0.5513 | \n",
      "Epoch  21/100 | Avg Train loss        : 3.6845 | Avg Val loss          : 4.0079 |\n",
      "              | Train action accuracy : 0.4424 | Train emotion accuracy: 0.5957 | \n",
      "              | Val action accuracy   : 0.1589 | Val emotion accuracy  : 0.5542 | \n",
      "Epoch  26/100 | Avg Train loss        : 3.6780 | Avg Val loss          : 4.0145 |\n",
      "              | Train action accuracy : 0.4435 | Train emotion accuracy: 0.6032 | \n",
      "              | Val action accuracy   : 0.1593 | Val emotion accuracy  : 0.5550 | \n",
      "Epoch  31/100 | Avg Train loss        : 3.6724 | Avg Val loss          : 4.0016 |\n",
      "              | Train action accuracy : 0.4453 | Train emotion accuracy: 0.6079 | \n",
      "              | Val action accuracy   : 0.1589 | Val emotion accuracy  : 0.5663 | \n",
      "Epoch  36/100 | Avg Train loss        : 3.6399 | Avg Val loss          : 4.0043 |\n",
      "              | Train action accuracy : 0.4746 | Train emotion accuracy: 0.6121 | \n",
      "              | Val action accuracy   : 0.1589 | Val emotion accuracy  : 0.5614 | \n",
      "Epoch  41/100 | Avg Train loss        : 3.6293 | Avg Val loss          : 4.0053 |\n",
      "              | Train action accuracy : 0.4810 | Train emotion accuracy: 0.6165 | \n",
      "              | Val action accuracy   : 0.1593 | Val emotion accuracy  : 0.5647 | \n",
      "Epoch  46/100 | Avg Train loss        : 3.6220 | Avg Val loss          : 3.9898 |\n",
      "              | Train action accuracy : 0.4842 | Train emotion accuracy: 0.6200 | \n",
      "              | Val action accuracy   : 0.1593 | Val emotion accuracy  : 0.5776 | \n",
      "Epoch  51/100 | Avg Train loss        : 3.6191 | Avg Val loss          : 3.9955 |\n",
      "              | Train action accuracy : 0.4864 | Train emotion accuracy: 0.6211 | \n",
      "              | Val action accuracy   : 0.1589 | Val emotion accuracy  : 0.5695 | \n",
      "Epoch  56/100 | Avg Train loss        : 3.6125 | Avg Val loss          : 4.0033 |\n",
      "              | Train action accuracy : 0.4916 | Train emotion accuracy: 0.6229 | \n",
      "              | Val action accuracy   : 0.1589 | Val emotion accuracy  : 0.5610 | \n",
      "Epoch  61/100 | Avg Train loss        : 3.6118 | Avg Val loss          : 4.0006 |\n",
      "              | Train action accuracy : 0.4916 | Train emotion accuracy: 0.6231 | \n",
      "              | Val action accuracy   : 0.1593 | Val emotion accuracy  : 0.5675 | \n",
      "Epoch  66/100 | Avg Train loss        : 3.6045 | Avg Val loss          : 4.0018 |\n",
      "              | Train action accuracy : 0.4945 | Train emotion accuracy: 0.6273 | \n",
      "              | Val action accuracy   : 0.1589 | Val emotion accuracy  : 0.5683 | \n",
      "Epoch  71/100 | Avg Train loss        : 3.5999 | Avg Val loss          : 3.9957 |\n",
      "              | Train action accuracy : 0.4975 | Train emotion accuracy: 0.6298 | \n",
      "              | Val action accuracy   : 0.1597 | Val emotion accuracy  : 0.5732 | \n",
      "Epoch  76/100 | Avg Train loss        : 3.6004 | Avg Val loss          : 3.9811 |\n",
      "              | Train action accuracy : 0.4964 | Train emotion accuracy: 0.6309 | \n",
      "              | Val action accuracy   : 0.1584 | Val emotion accuracy  : 0.5841 | \n",
      "Epoch  81/100 | Avg Train loss        : 3.5948 | Avg Val loss          : 3.9658 |\n",
      "              | Train action accuracy : 0.4982 | Train emotion accuracy: 0.6334 | \n",
      "              | Val action accuracy   : 0.1593 | Val emotion accuracy  : 0.6006 | \n",
      "Epoch  86/100 | Avg Train loss        : 3.5714 | Avg Val loss          : 3.9345 |\n",
      "              | Train action accuracy : 0.5252 | Train emotion accuracy: 0.6322 | \n",
      "              | Val action accuracy   : 0.1880 | Val emotion accuracy  : 0.5950 | \n",
      "Epoch  91/100 | Avg Train loss        : 3.5637 | Avg Val loss          : 3.9476 |\n",
      "              | Train action accuracy : 0.5276 | Train emotion accuracy: 0.6356 | \n",
      "              | Val action accuracy   : 0.1835 | Val emotion accuracy  : 0.5978 | \n",
      "Epoch  96/100 | Avg Train loss        : 3.5637 | Avg Val loss          : 3.9656 |\n",
      "              | Train action accuracy : 0.5295 | Train emotion accuracy: 0.6344 | \n",
      "              | Val action accuracy   : 0.1766 | Val emotion accuracy  : 0.5812 | \n",
      "Epoch 100/100 | Avg Train loss        : 3.5563 | Avg Val loss          : 3.9443 |\n",
      "              | Train action accuracy : 0.5325 | Train emotion accuracy: 0.6394 | \n",
      "              | Val action accuracy   : 0.1880 | Val emotion accuracy  : 0.5914 | \n"
     ]
    }
   ],
   "source": [
    "for e in range(EPOCH):\n",
    "    train_losses = []\n",
    "    val_losses = []\n",
    "    \n",
    "    train_pos_act = 0\n",
    "    train_pos_emo = 0\n",
    "    val_pos_act = 0\n",
    "    val_pos_emo = 0\n",
    "\n",
    "    for train in train_dataloader:\n",
    "        # Calculate loss and backpropagate\n",
    "        optimizer.zero_grad()\n",
    "        \n",
    "        out_act, out_emo = model_EP(train['keys'].to(device))\n",
    "        loss_act = criterion(out_act, train['action'].to(device))\n",
    "        loss_emo = criterion(out_emo, train['emotion'].to(device))\n",
    "        \n",
    "        loss = loss_act + loss_emo\n",
    "        loss.backward()\n",
    "        optimizer.step()\n",
    "        \n",
    "        train_losses.append(loss.item())\n",
    "\n",
    "        # Sum up positives\n",
    "        with torch.no_grad():\n",
    "            for i in range(len(out_act)):\n",
    "                train_pos_act += train['action'][i, torch.argmax(out_act[i]).item()].item()\n",
    "                train_pos_emo += train['emotion'][i, torch.argmax(out_emo[i]).item()].item()\n",
    "        \n",
    "    for val in val_dataloader:\n",
    "        with torch.no_grad():\n",
    "            out_act, out_emo = model_EP(val['keys'].to(device))\n",
    "            loss_act = criterion(out_act, val['action'].to(device))\n",
    "            loss_emo = criterion(out_emo, val['emotion'].to(device))\n",
    "\n",
    "            loss = loss_act + loss_emo\n",
    "            val_losses.append(loss.item())\n",
    "\n",
    "            for i in range(len(out_act)):\n",
    "                val_pos_act += val['action'][i, torch.argmax(out_act[i]).item()].item()\n",
    "                val_pos_emo += val['emotion'][i, torch.argmax(out_emo[i]).item()].item()\n",
    "    \n",
    "    # Calculate average losses\n",
    "    train_avg_loss = np.mean(np.array(train_losses))\n",
    "    train_avg_losses.append(train_avg_loss)\n",
    "\n",
    "    val_avg_loss = np.mean(np.array(val_losses))\n",
    "    val_avg_losses.append(val_avg_loss)\n",
    "\n",
    "    # Calculate accuracies\n",
    "    train_acc_act = train_pos_act / len(train_dataset)\n",
    "    train_accs_act.append(train_acc_act)\n",
    "    train_acc_emo = train_pos_emo / len(train_dataset)\n",
    "    train_accs_emo.append(train_acc_emo)\n",
    "\n",
    "    val_acc_act = val_pos_act / len(val_dataset)\n",
    "    val_accs_act.append(val_acc_act)\n",
    "    val_acc_emo = val_pos_emo / len(val_dataset)\n",
    "    val_accs_emo.append(val_acc_emo)\n",
    "\n",
    "    if e % 5 == 0 or e == EPOCH-1:\n",
    "        print(f'Epoch {e+1:>3}/{EPOCH} | {\"Avg Train loss\":<22}: {train_avg_loss:.4f} | {\"Avg Val loss\":<22}: {val_avg_loss:.4f} |',   \n",
    "              f'{\"|\":>15} {\"Train action accuracy\":<22}: {train_acc_act:.4f} | Train emotion accuracy: {train_acc_emo:.4f} | ',\n",
    "              f'{\"|\":>15} {\"Val action accuracy\":<22}: {val_acc_act:.4f} | {\"Val emotion accuracy\":<22}: {val_acc_emo:.4f} | ',\n",
    "              sep='\\n')"
   ]
  },
  {
   "cell_type": "code",
   "execution_count": 44,
   "metadata": {},
   "outputs": [],
   "source": [
    "#torch.cuda.empty_cache()"
   ]
  },
  {
   "cell_type": "code",
   "execution_count": 5,
   "metadata": {
    "scrolled": false
   },
   "outputs": [
    {
     "data": {
      "image/png": "[encoded data removed]",
      "text/plain": [
       "<Figure size 600x400 with 1 Axes>"
      ]
     },
     "metadata": {},
     "output_type": "display_data"
    },
    {
     "data": {
      "image/png": "[encoded data removed]",
      "text/plain": [
       "<Figure size 600x400 with 1 Axes>"
      ]
     },
     "metadata": {},
     "output_type": "display_data"
    },
    {
     "data": {
      "image/png": "[encoded data removed]",
      "text/plain": [
       "<Figure size 600x400 with 1 Axes>"
      ]
     },
     "metadata": {},
     "output_type": "display_data"
    }
   ],
   "source": [
    "show_loss(train_avg_losses, val_avg_losses, (6, 4))\n",
    "show_loss(train_accs_act, val_accs_act, (6, 4))\n",
    "show_loss(train_accs_emo, val_accs_emo, (6, 4))"
   ]
  },
  {
   "cell_type": "code",
   "execution_count": 16,
   "metadata": {},
   "outputs": [],
   "source": [
    "# saving model state\n",
    "torch.save(model_EP.state_dict(), 'state/EP/EP5/model')"
   ]
  },
  {
   "cell_type": "code",
   "execution_count": 17,
   "metadata": {},
   "outputs": [],
   "source": [
    "# saving loss values\n",
    "with open('state/EP/EP5/train_avg_losses.pkl','wb') as f:\n",
    "    pickle.dump(train_avg_losses, f)\n",
    "with open('state/EP/EP5/val_avg_losses.pkl','wb') as f:\n",
    "    pickle.dump(val_avg_losses, f)\n",
    "with open('state/EP/EP5/train_accs_act.pkl','wb') as f:\n",
    "    pickle.dump(train_accs_act, f)\n",
    "with open('state/EP/EP5/val_accs_act.pkl','wb') as f:\n",
    "    pickle.dump(val_accs_act, f)\n",
    "with open('state/EP/EP5/train_accs_emo.pkl','wb') as f:\n",
    "    pickle.dump(train_accs_emo, f)\n",
    "with open('state/EP/EP5/val_accs_emo.pkl','wb') as f:\n",
    "    pickle.dump(val_accs_emo, f)"
   ]
  },
  {
   "cell_type": "markdown",
   "metadata": {},
   "source": [
    "### 3.3 Test"
   ]
  },
  {
   "cell_type": "code",
   "execution_count": 86,
   "metadata": {},
   "outputs": [],
   "source": [
    "model_EP = model_EP.eval()\n",
    "p = model_EP(train_keys['keys'].to(device))"
   ]
  },
  {
   "cell_type": "code",
   "execution_count": 87,
   "metadata": {
    "scrolled": true
   },
   "outputs": [
    {
     "data": {
      "text/plain": [
       "tensor([0.2040, 0.1622, 0.1962, 0.1101, 0.1070, 0.2205], device='cuda:0',\n",
       "       dtype=torch.float64, grad_fn=<SelectBackward0>)"
      ]
     },
     "execution_count": 87,
     "metadata": {},
     "output_type": "execute_result"
    }
   ],
   "source": [
    "p[1][0]"
   ]
  },
  {
   "cell_type": "code",
   "execution_count": 88,
   "metadata": {},
   "outputs": [
    {
     "data": {
      "text/plain": [
       "tensor([0., 0., 0., 1., 0., 0.])"
      ]
     },
     "execution_count": 88,
     "metadata": {},
     "output_type": "execute_result"
    }
   ],
   "source": [
    "train_keys['emotion'][0]"
   ]
  },
  {
   "cell_type": "markdown",
   "metadata": {},
   "source": [
    "### 3.4 Loading\n",
    "| EP | Batch Size | Epochs | Learning Rate | Linear Projection | Pad Masks | Val Regularize |\n",
    "|----|------------|--------|---------------|-------------------|-----------|----------------|\n",
    "| 1  | 256        | 1      | 2e-5          | X                 | X         | X              |\n",
    "| 2  | 256        | 100    | 2e-5          | X                 | X         | X              |\n",
    "| 3  | 256        | 1      | 2e-5          | O                 | X         | X              |\n",
    "| 4  | 256        | 100    | 2e-5          | O                 | X         | X              |\n",
    "| 5  | 256        | 100    | 2e-5          | O                 | X         | O              |"
   ]
  },
  {
   "cell_type": "code",
   "execution_count": 13,
   "metadata": {},
   "outputs": [
    {
     "data": {
      "text/plain": [
       "<All keys matched successfully>"
      ]
     },
     "execution_count": 13,
     "metadata": {},
     "output_type": "execute_result"
    }
   ],
   "source": [
    "# loading previous model state\n",
    "model_EP.load_state_dict(torch.load('state/EP/EP4/model'))"
   ]
  },
  {
   "cell_type": "code",
   "execution_count": 2,
   "metadata": {},
   "outputs": [],
   "source": [
    "# loading previous loss values\n",
    "with open('state/EP/EP4/train_loss.pkl','rb') as f:\n",
    "    loss_train = pickle.load(f)\n",
    "with open('state/EP/EP4/val_loss.pkl','rb') as g:\n",
    "    loss_val = pickle.load(g)"
   ]
  },
  {
   "cell_type": "markdown",
   "metadata": {
    "id": "VPWHjv1yMOAT"
   },
   "source": [
    "# Memo"
   ]
  },
  {
   "cell_type": "markdown",
   "metadata": {},
   "source": [
    "Positional Embedding 문제  \n",
    "Training set은 17 정도가 끝인데  \n",
    "Val set은 0 ~ 178까지 다양하다  \n",
    "learnable한 embedding을 사용한다면 17 이후의 embedding은 학습되지 않을 것이다.  "
   ]
  }
 ],
 "metadata": {
  "colab": {
   "collapsed_sections": [
    "FefvRGVlNsrY",
    "41bktgOJNRbe",
    "WC_OZJ0FNWRH",
    "YtdbQteZgr7q",
    "zl0OJZVbgFV_",
    "ttvZkYdqpC5-",
    "lAJ48o0KOwEF",
    "6MydEmH5fiCq",
    "U2M1gRU9Ntbo",
    "pUN8Ycd0ufOy",
    "TpFZ2G1SHsE3",
    "VPWHjv1yMOAT"
   ],
   "provenance": []
  },
  "gpuClass": "standard",
  "kernelspec": {
   "display_name": "Python 3 (ipykernel)",
   "language": "python",
   "name": "python3"
  },
  "language_info": {
   "codemirror_mode": {
    "name": "ipython",
    "version": 3
   },
   "file_extension": ".py",
   "mimetype": "text/x-python",
   "name": "python",
   "nbconvert_exporter": "python",
   "pygments_lexer": "ipython3",
   "version": "3.10.11"
  }
 },
 "nbformat": 4,
 "nbformat_minor": 1
}
