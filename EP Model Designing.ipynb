{
 "cells": [
  {
   "cell_type": "markdown",
   "metadata": {
    "id": "ttvZkYdqpC5-"
   },
   "source": [
    "## Packages, parameters"
   ]
  },
  {
   "cell_type": "code",
   "execution_count": 1,
   "metadata": {
    "id": "HC1tvfoUqlM9"
   },
   "outputs": [],
   "source": [
    "import numpy as np\n",
    "import matplotlib.pyplot as plt\n",
    "import pandas as pd\n",
    "import ast\n",
    "import pickle\n",
    "from tqdm import tqdm\n",
    "from utils.visualize import show_loss\n",
    "from utils.data import collate_EP\n",
    "\n",
    "import torch\n",
    "import torch.nn as nn\n",
    "import torch.nn.functional as F\n",
    "import torch.optim as opt\n",
    "from torch.utils.data import Dataset, DataLoader, random_split"
   ]
  },
  {
   "cell_type": "code",
   "execution_count": 2,
   "metadata": {
    "id": "XSMOu8VHvMoK"
   },
   "outputs": [],
   "source": [
    "# hyperparameters\n",
    "BATCH_SIZE = 256\n",
    "EPOCH = 1\n",
    "LEARNING_RATE = 2e-5\n",
    "MAX_FRAME = 200\n",
    "DIM_TOKEN = 45\n",
    "DROPOUT_PROB = 1e-1\n",
    "\n",
    "# dictionary for classification\n",
    "dict_class = {\n",
    "    'action': ['bodylower', 'bodyscratch', 'bodyshake',\n",
    "               'feetup', 'footup', 'heading', 'lying',\n",
    "               'mounting', 'sit', 'tailing', 'taillow',\n",
    "               'turn', 'walkrun'],\n",
    "    'emotion': ['aggresive', 'feared', 'anxiety',\n",
    "                'relaxed', 'excited', 'offended'],\n",
    "}\n",
    "num_action = len(dict_class['action'])\n",
    "num_emotion = len(dict_class['emotion'])"
   ]
  },
  {
   "cell_type": "code",
   "execution_count": 3,
   "metadata": {
    "id": "wYTO4GbVrZMG"
   },
   "outputs": [
    {
     "name": "stdout",
     "output_type": "stream",
     "text": [
      "Device: cuda\n"
     ]
    }
   ],
   "source": [
    "device = torch.device('cuda') if torch.cuda.is_available() else torch.device('cpu')\n",
    "print(f'Device: {device}')"
   ]
  },
  {
   "cell_type": "markdown",
   "metadata": {
    "id": "6MydEmH5fiCq"
   },
   "source": [
    "## **Dataloader**"
   ]
  },
  {
   "cell_type": "code",
   "execution_count": 4,
   "metadata": {
    "id": "CBEbcwu_flNj"
   },
   "outputs": [],
   "source": [
    "class KeyDataset(Dataset):\n",
    "    def __init__(self, label):\n",
    "        self.label = pd.read_csv(label)\n",
    "        self.seq = self.label['seq'].unique()\n",
    "\n",
    "    def __len__(self):\n",
    "        return self.seq.size\n",
    "    \n",
    "    def to_tensor(self, series):\n",
    "        return torch.tensor(series.apply(ast.literal_eval).values.tolist(), dtype=float)\n",
    "    \n",
    "    def norm_keys(self, bbox, keys):\n",
    "        for i in range(bbox.shape[0]):\n",
    "            w = bbox[i][2] - bbox[i][0]\n",
    "            h = bbox[i][3] - bbox[i][1]\n",
    "            \n",
    "            keys[i, :, 0] = (keys[i, :, 0] - bbox[i][0]) / w\n",
    "            keys[i, :, 1] = (keys[i, :, 1] - bbox[i][1]) / h\n",
    "            \n",
    "            for j in range(15):\n",
    "                if keys[i, j, -1] == 0:\n",
    "                    keys[i, j] = torch.tensor([0, 0, 0], dtype=float)\n",
    "        return keys\n",
    "\n",
    "    def __getitem__(self, idx):\n",
    "        s = self.seq[idx]\n",
    "        target = self.label[self.label['seq']==s]\n",
    "        \n",
    "        bbox = self.to_tensor(target['bbox'])\n",
    "        keys = self.to_tensor(target['keypoints'])\n",
    "        keys = self.norm_keys(bbox, keys)\n",
    "        \n",
    "        action, emotion = target[['action', 'emotion']].iloc[0]\n",
    "        action = F.one_hot(torch.tensor([action]), num_action)\n",
    "        emotion = F.one_hot(torch.tensor([emotion]), num_emotion)\n",
    "        \n",
    "        return keys, action, emotion"
   ]
  },
  {
   "cell_type": "code",
   "execution_count": 5,
   "metadata": {
    "id": "ss21hsLKx2Wq"
   },
   "outputs": [],
   "source": [
    "# dataset for training\n",
    "train_dataset = KeyDataset(\n",
    "    'data/train/label.csv',\n",
    ")\n",
    "train_dataloader = DataLoader(\n",
    "    train_dataset,\n",
    "    batch_size=BATCH_SIZE,\n",
    "    collate_fn=collate_EP,\n",
    "    shuffle=True,\n",
    ")"
   ]
  },
  {
   "cell_type": "code",
   "execution_count": 6,
   "metadata": {
    "id": "7S3RnBZH2qm-",
    "scrolled": true
   },
   "outputs": [],
   "source": [
    "train_keys = next(iter(train_dataloader))"
   ]
  },
  {
   "cell_type": "code",
   "execution_count": 7,
   "metadata": {
    "scrolled": true
   },
   "outputs": [
    {
     "name": "stdout",
     "output_type": "stream",
     "text": [
      "dict_keys(['keys', 'action', 'emotion'])\n",
      "torch.Size([256, 14, 15, 3])\n",
      "torch.Size([256, 13])\n",
      "torch.Size([256, 6])\n"
     ]
    }
   ],
   "source": [
    "print(train_keys.keys())\n",
    "print(train_keys['keys'].shape)\n",
    "print(train_keys['action'].shape)\n",
    "print(train_keys['emotion'].shape)"
   ]
  },
  {
   "cell_type": "markdown",
   "metadata": {
    "id": "U2M1gRU9Ntbo"
   },
   "source": [
    "## **Emotion Prediction**\n",
    "    - Input: ...\n",
    "    - Output: ..."
   ]
  },
  {
   "cell_type": "code",
   "execution_count": 8,
   "metadata": {},
   "outputs": [],
   "source": [
    "from torch.nn import TransformerEncoder as trEnc\n",
    "from torch.nn import TransformerEncoderLayer as trEncLayer"
   ]
  },
  {
   "cell_type": "code",
   "execution_count": 9,
   "metadata": {},
   "outputs": [],
   "source": [
    "class EPencoder(nn.Module):\n",
    "    def __init__(self):\n",
    "        super().__init__()\n",
    "        \n",
    "        # layers\n",
    "        self.encoder_layer = trEncLayer(d_model=DIM_TOKEN,\n",
    "                                        nhead=15,\n",
    "                                        activation='gelu',\n",
    "                                        batch_first=True,\n",
    "                                        norm_first=True)\n",
    "        self.encoder = trEnc(encoder_layer=self.encoder_layer, \n",
    "                             num_layers=6)\n",
    "        self.mlp_action = self.get_MLP(num_action)\n",
    "        self.mlp_emotion = self.get_MLP(num_emotion)\n",
    "        self.dropout = nn.Dropout(DROPOUT_PROB)\n",
    "        \n",
    "        # tokens\n",
    "        self.pos_embedding = nn.Parameter(torch.randn(1, MAX_FRAME + 2, DIM_TOKEN))\n",
    "        self.action_token = nn.Parameter(torch.randn(1, 1, DIM_TOKEN))\n",
    "        self.emotion_token = nn.Parameter(torch.randn(1, 1, DIM_TOKEN))\n",
    "        \n",
    "    def get_MLP(self, len_cls):\n",
    "        return nn.Sequential(nn.LayerNorm(DIM_TOKEN),\n",
    "                             nn.Linear(DIM_TOKEN, len_cls),\n",
    "                             nn.Softmax(1))\n",
    "\n",
    "    def forward(self, x):     \n",
    "        # [B, N, 45]\n",
    "        B, N, _ = x.shape\n",
    "        \n",
    "        act_token = self.action_token.repeat(B, 1, 1)\n",
    "        emo_token = self.emotion_token.repeat(B, 1, 1)\n",
    "        x = torch.cat((act_token, emo_token, x), dim=1)\n",
    "        \n",
    "        x += self.pos_embedding[:, :(N + 2)]\n",
    "        x = self.dropout(x)\n",
    "        \n",
    "        x = self.encoder(x)\n",
    "        \n",
    "        act_output = x[:, 0]\n",
    "        emo_output = x[:, 1]\n",
    "        \n",
    "        return self.mlp_action(act_output), self.mlp_emotion(emo_output)"
   ]
  },
  {
   "cell_type": "code",
   "execution_count": 10,
   "metadata": {},
   "outputs": [],
   "source": [
    "model_EP = EPencoder()\n",
    "model_EP = model_EP.double().to(device)"
   ]
  },
  {
   "cell_type": "markdown",
   "metadata": {
    "id": "TpFZ2G1SHsE3"
   },
   "source": [
    "### Training"
   ]
  },
  {
   "cell_type": "code",
   "execution_count": 11,
   "metadata": {
    "id": "44lOrRDWH0Bc"
   },
   "outputs": [],
   "source": [
    "model_EP = model_EP.train()"
   ]
  },
  {
   "cell_type": "code",
   "execution_count": 12,
   "metadata": {
    "id": "C5USqpcFrG2z"
   },
   "outputs": [],
   "source": [
    "criterion = nn.CrossEntropyLoss()\n",
    "optimizer = opt.Adam(model_EP.parameters(), lr=LEARNING_RATE)\n",
    "loss_train = []"
   ]
  },
  {
   "cell_type": "code",
   "execution_count": 517,
   "metadata": {
    "id": "QxVhysfPpqM9"
   },
   "outputs": [
    {
     "name": "stderr",
     "output_type": "stream",
     "text": [
      "100%|████████████████████████████████████████████████████████████████████████████████| 155/155 [03:54<00:00,  1.51s/it]\n"
     ]
    }
   ],
   "source": [
    "for e in range(EPOCH):\n",
    "    for data in tqdm(train_dataloader):\n",
    "        optimizer.zero_grad()\n",
    "        \n",
    "        out_act, out_emo = model_EP(torch.flatten(data['keys'], 2).to(device))\n",
    "        loss_act = criterion(out_act, data['action'].float().to(device))\n",
    "        loss_emo = criterion(out_emo, data['emotion'].float().to(device))\n",
    "        \n",
    "        loss = loss_act + loss_emo\n",
    "        loss.backward()\n",
    "        optimizer.step()\n",
    "        \n",
    "        loss_train.append(loss)"
   ]
  },
  {
   "cell_type": "code",
   "execution_count": 518,
   "metadata": {},
   "outputs": [],
   "source": [
    "loss_train = [x.cpu().detach() for x in loss_train]"
   ]
  },
  {
   "cell_type": "code",
   "execution_count": 16,
   "metadata": {
    "scrolled": false
   },
   "outputs": [
    {
     "data": {
      "image/png": "[encoded data removed]",
      "text/plain": [
       "<Figure size 600x400 with 1 Axes>"
      ]
     },
     "metadata": {},
     "output_type": "display_data"
    }
   ],
   "source": [
    "show_loss(loss_train)"
   ]
  },
  {
   "cell_type": "code",
   "execution_count": 525,
   "metadata": {},
   "outputs": [],
   "source": [
    "# saving model state\n",
    "torch.save(model_EP.state_dict(), 'state/model_EP_B256_E1_L2e-5')"
   ]
  },
  {
   "cell_type": "code",
   "execution_count": 526,
   "metadata": {},
   "outputs": [],
   "source": [
    "# saving loss values\n",
    "with open('state/loss_EP_B256_E1_L2e-5.pkl','wb') as f:\n",
    "    pickle.dump(loss_train, f)"
   ]
  },
  {
   "cell_type": "markdown",
   "metadata": {},
   "source": [
    "### Test"
   ]
  },
  {
   "cell_type": "code",
   "execution_count": 17,
   "metadata": {},
   "outputs": [],
   "source": [
    "model_EP = model_EP.eval()\n",
    "p = model_EP(torch.flatten(train_keys['keys'], 2).to(device))"
   ]
  },
  {
   "cell_type": "code",
   "execution_count": 18,
   "metadata": {
    "scrolled": true
   },
   "outputs": [
    {
     "data": {
      "text/plain": [
       "tensor([0.0031, 0.0114, 0.0163, 0.9032, 0.0580, 0.0080], device='cuda:0',\n",
       "       dtype=torch.float64, grad_fn=<SelectBackward0>)"
      ]
     },
     "execution_count": 18,
     "metadata": {},
     "output_type": "execute_result"
    }
   ],
   "source": [
    "p[1][0]"
   ]
  },
  {
   "cell_type": "code",
   "execution_count": 19,
   "metadata": {},
   "outputs": [
    {
     "data": {
      "text/plain": [
       "tensor([0, 0, 0, 1, 0, 0])"
      ]
     },
     "execution_count": 19,
     "metadata": {},
     "output_type": "execute_result"
    }
   ],
   "source": [
    "train_keys['emotion'][0]"
   ]
  },
  {
   "cell_type": "markdown",
   "metadata": {},
   "source": [
    "### Loading"
   ]
  },
  {
   "cell_type": "code",
   "execution_count": 13,
   "metadata": {},
   "outputs": [
    {
     "data": {
      "text/plain": [
       "<All keys matched successfully>"
      ]
     },
     "execution_count": 13,
     "metadata": {},
     "output_type": "execute_result"
    }
   ],
   "source": [
    "# loading previous model state\n",
    "model_EP.load_state_dict(torch.load('state/model_EP_B256_E1_L2e-5'))"
   ]
  },
  {
   "cell_type": "code",
   "execution_count": 15,
   "metadata": {},
   "outputs": [],
   "source": [
    "# loading previous loss values\n",
    "with open('state/loss_EP_B256_E1_L2e-5.pkl','rb') as f:\n",
    "    loss_train = pickle.load(f)"
   ]
  },
  {
   "cell_type": "markdown",
   "metadata": {
    "id": "VPWHjv1yMOAT"
   },
   "source": [
    "# Memo"
   ]
  },
  {
   "cell_type": "markdown",
   "metadata": {},
   "source": [
    "Positional Embedding 문제  \n",
    "Training set은 17 정도가 끝인데  \n",
    "Val set은 0 ~ 178까지 다양하다  \n",
    "learnable한 embedding을 사용한다면 17 이후의 embedding은 학습되지 않을 것이다.  "
   ]
  }
 ],
 "metadata": {
  "colab": {
   "collapsed_sections": [
    "FefvRGVlNsrY",
    "41bktgOJNRbe",
    "WC_OZJ0FNWRH",
    "YtdbQteZgr7q",
    "zl0OJZVbgFV_",
    "ttvZkYdqpC5-",
    "lAJ48o0KOwEF",
    "6MydEmH5fiCq",
    "U2M1gRU9Ntbo",
    "pUN8Ycd0ufOy",
    "TpFZ2G1SHsE3",
    "VPWHjv1yMOAT"
   ],
   "provenance": []
  },
  "gpuClass": "standard",
  "kernelspec": {
   "display_name": "Python 3 (ipykernel)",
   "language": "python",
   "name": "python3"
  },
  "language_info": {
   "codemirror_mode": {
    "name": "ipython",
    "version": 3
   },
   "file_extension": ".py",
   "mimetype": "text/x-python",
   "name": "python",
   "nbconvert_exporter": "python",
   "pygments_lexer": "ipython3",
   "version": "3.10.11"
  }
 },
 "nbformat": 4,
 "nbformat_minor": 1
}
