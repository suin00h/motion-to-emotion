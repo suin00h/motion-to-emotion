{
 "cells": [
  {
   "cell_type": "markdown",
   "metadata": {
    "id": "ttvZkYdqpC5-"
   },
   "source": [
    "## 1. Packages and Parameters"
   ]
  },
  {
   "cell_type": "code",
   "execution_count": 72,
   "metadata": {
    "id": "HC1tvfoUqlM9"
   },
   "outputs": [],
   "source": [
    "import numpy as np\n",
    "import matplotlib.pyplot as plt\n",
    "import pandas as pd\n",
    "import pickle\n",
    "from tqdm import tqdm\n",
    "from utils.visualize import show_loss\n",
    "from utils.data import collate_EP\n",
    "\n",
    "import torch\n",
    "import torch.nn as nn\n",
    "import torch.optim as opt\n",
    "from torch.utils.data import Dataset, DataLoader, random_split"
   ]
  },
  {
   "cell_type": "code",
   "execution_count": 2,
   "metadata": {
    "id": "XSMOu8VHvMoK"
   },
   "outputs": [],
   "source": [
    "# hyperparameters\n",
    "BATCH_SIZE = 256\n",
    "EPOCH = 100\n",
    "LEARNING_RATE = 2e-5\n",
    "MAX_FRAME = 200\n",
    "DIM_TOKEN = 256\n",
    "NUM_HEAD = 8\n",
    "DROPOUT_PROB = 1e-1\n",
    "\n",
    "# dictionary for classification\n",
    "dict_class = {\n",
    "    'action': ['bodylower', 'bodyscratch', 'bodyshake',\n",
    "               'feetup', 'footup', 'heading', 'lying',\n",
    "               'mounting', 'sit', 'tailing', 'taillow',\n",
    "               'turn', 'walkrun'],\n",
    "    'emotion': ['aggresive', 'feared', 'anxiety',\n",
    "                'relaxed', 'excited', 'offended'],\n",
    "}\n",
    "num_action = len(dict_class['action'])\n",
    "num_emotion = len(dict_class['emotion'])"
   ]
  },
  {
   "cell_type": "code",
   "execution_count": 3,
   "metadata": {
    "id": "wYTO4GbVrZMG",
    "scrolled": true
   },
   "outputs": [
    {
     "name": "stdout",
     "output_type": "stream",
     "text": [
      "Device: cuda\n"
     ]
    }
   ],
   "source": [
    "device = torch.device('cuda') if torch.cuda.is_available() else torch.device('cpu')\n",
    "print(f'Device: {device}')"
   ]
  },
  {
   "cell_type": "markdown",
   "metadata": {
    "id": "6MydEmH5fiCq"
   },
   "source": [
    "## 2. Dataset"
   ]
  },
  {
   "cell_type": "markdown",
   "metadata": {},
   "source": [
    "### 2.1 Load label"
   ]
  },
  {
   "cell_type": "code",
   "execution_count": 99,
   "metadata": {},
   "outputs": [],
   "source": [
    "label_train = pd.read_pickle('data/key_label_train')\n",
    "label_val = pd.read_pickle('data/key_label_val')"
   ]
  },
  {
   "cell_type": "markdown",
   "metadata": {},
   "source": [
    "### 2.2 Dataset and dataloader"
   ]
  },
  {
   "cell_type": "code",
   "execution_count": 75,
   "metadata": {
    "id": "CBEbcwu_flNj"
   },
   "outputs": [],
   "source": [
    "class KeyDataset(Dataset):\n",
    "    def __init__(self, label):\n",
    "        self.label = label\n",
    "\n",
    "    def __len__(self):\n",
    "        return len(self.label)\n",
    "\n",
    "    def __getitem__(self, idx):\n",
    "        return self.label.iloc[idx].values"
   ]
  },
  {
   "cell_type": "code",
   "execution_count": 100,
   "metadata": {
    "id": "ss21hsLKx2Wq"
   },
   "outputs": [],
   "source": [
    "# dataset for training\n",
    "train_dataset = KeyDataset(label_train)\n",
    "train_dataloader = DataLoader(\n",
    "    train_dataset,\n",
    "    batch_size=BATCH_SIZE,\n",
    "    collate_fn=collate_EP,\n",
    "    shuffle=True,\n",
    "    #num_workers=4,\n",
    "    pin_memory=True\n",
    ")"
   ]
  },
  {
   "cell_type": "code",
   "execution_count": 79,
   "metadata": {},
   "outputs": [],
   "source": [
    "# dataset for validation and test\n",
    "temp_dataset = KeyDataset(label_val)\n",
    "\n",
    "dataset_size = len(temp_dataset)\n",
    "val_size = int(dataset_size * 0.5)\n",
    "test_size = dataset_size - val_size\n",
    "\n",
    "val_dataset, test_dataset = random_split(temp_dataset, [val_size, test_size])\n",
    "\n",
    "val_dataloader = DataLoader(\n",
    "    val_dataset,\n",
    "    batch_size=BATCH_SIZE,\n",
    "    collate_fn=collate_EP,\n",
    "    shuffle=True,\n",
    "    #num_workers=4,\n",
    "    pin_memory=True\n",
    ")\n",
    "test_dataloader = DataLoader(\n",
    "    test_dataset,\n",
    "    batch_size=BATCH_SIZE,\n",
    "    collate_fn=collate_EP,\n",
    "    shuffle=True,\n",
    "    #num_workers=4,\n",
    "    pin_memory=True\n",
    ")"
   ]
  },
  {
   "cell_type": "markdown",
   "metadata": {},
   "source": [
    "### 3.3 Check for a batch"
   ]
  },
  {
   "cell_type": "code",
   "execution_count": 101,
   "metadata": {
    "id": "7S3RnBZH2qm-",
    "scrolled": true
   },
   "outputs": [],
   "source": [
    "train_keys = next(iter(train_dataloader))"
   ]
  },
  {
   "cell_type": "code",
   "execution_count": 102,
   "metadata": {
    "scrolled": false
   },
   "outputs": [
    {
     "name": "stdout",
     "output_type": "stream",
     "text": [
      "dict_keys(['keys', 'action', 'emotion'])\n",
      "torch.Size([256, 14, 15, 3])\n",
      "torch.Size([256, 13])\n",
      "torch.Size([256, 6])\n"
     ]
    }
   ],
   "source": [
    "print(train_keys.keys())\n",
    "print(train_keys['keys'].shape)\n",
    "print(train_keys['action'].shape)\n",
    "print(train_keys['emotion'].shape)"
   ]
  },
  {
   "cell_type": "markdown",
   "metadata": {
    "id": "U2M1gRU9Ntbo"
   },
   "source": [
    "## 3. Emotion Prediction\n",
    "    - Input: ...\n",
    "    - Output: ..."
   ]
  },
  {
   "cell_type": "markdown",
   "metadata": {},
   "source": [
    "### 3.1 Model define"
   ]
  },
  {
   "cell_type": "code",
   "execution_count": 82,
   "metadata": {},
   "outputs": [],
   "source": [
    "from torch.nn import TransformerEncoder as trEnc\n",
    "from torch.nn import TransformerEncoderLayer as trEncLayer"
   ]
  },
  {
   "cell_type": "code",
   "execution_count": 83,
   "metadata": {},
   "outputs": [],
   "source": [
    "class EPencoder(nn.Module):\n",
    "    def __init__(self, C_in):\n",
    "        super().__init__()\n",
    "        \n",
    "        # layers\n",
    "        self.encoder_layer = trEncLayer(d_model=DIM_TOKEN,\n",
    "                                        nhead=DIM_TOKEN // NUM_HEAD,\n",
    "                                        activation='gelu',\n",
    "                                        batch_first=True,\n",
    "                                        norm_first=True)\n",
    "        self.encoder = trEnc(encoder_layer=self.encoder_layer, \n",
    "                             num_layers=6)\n",
    "        self.mlp_action = self.get_MLP(num_action)\n",
    "        self.mlp_emotion = self.get_MLP(num_emotion)\n",
    "        self.dropout = nn.Dropout(DROPOUT_PROB)\n",
    "        self.linear = nn.Linear(C_in, DIM_TOKEN)\n",
    "        \n",
    "        # tokens\n",
    "        self.pos_embedding = nn.Parameter(torch.randn(1, MAX_FRAME + 2, DIM_TOKEN))\n",
    "        self.action_token = nn.Parameter(torch.randn(1, 1, DIM_TOKEN))\n",
    "        self.emotion_token = nn.Parameter(torch.randn(1, 1, DIM_TOKEN))\n",
    "        \n",
    "    def get_MLP(self, len_cls):\n",
    "        return nn.Sequential(nn.LayerNorm(DIM_TOKEN),\n",
    "                             nn.Linear(DIM_TOKEN, len_cls),\n",
    "                             nn.Softmax(1))\n",
    "\n",
    "    def forward(self, x):   \n",
    "        x = torch.flatten(x, 2) # [B, N, 15, 3] -> [B, N, 45]\n",
    "        B, N, _ = x.shape             \n",
    "        x = self.linear(x)      # [B, N, 45] -> [B, N, 256]\n",
    "        \n",
    "        act_token = self.action_token.repeat(B, 1, 1)\n",
    "        emo_token = self.emotion_token.repeat(B, 1, 1)\n",
    "        x = torch.cat((act_token, emo_token, x), dim=1)\n",
    "        \n",
    "        x += self.pos_embedding[:, :(N + 2)]\n",
    "        x = self.dropout(x)\n",
    "        \n",
    "        x = self.encoder(x)\n",
    "        \n",
    "        act_output = x[:, 0]\n",
    "        emo_output = x[:, 1]\n",
    "        \n",
    "        return self.mlp_action(act_output), self.mlp_emotion(emo_output)"
   ]
  },
  {
   "cell_type": "code",
   "execution_count": 84,
   "metadata": {},
   "outputs": [],
   "source": [
    "model_EP = EPencoder(45)\n",
    "model_EP = model_EP.double().to(device)"
   ]
  },
  {
   "cell_type": "markdown",
   "metadata": {
    "id": "TpFZ2G1SHsE3"
   },
   "source": [
    "### 3.2 Training"
   ]
  },
  {
   "cell_type": "code",
   "execution_count": 11,
   "metadata": {
    "id": "44lOrRDWH0Bc"
   },
   "outputs": [],
   "source": [
    "model_EP = model_EP.train()"
   ]
  },
  {
   "cell_type": "code",
   "execution_count": 85,
   "metadata": {
    "id": "C5USqpcFrG2z"
   },
   "outputs": [],
   "source": [
    "criterion = nn.CrossEntropyLoss()\n",
    "optimizer = opt.Adam(model_EP.parameters(), lr=LEARNING_RATE)\n",
    "loss_train = []\n",
    "loss_val = []"
   ]
  },
  {
   "cell_type": "code",
   "execution_count": 33,
   "metadata": {
    "id": "QxVhysfPpqM9"
   },
   "outputs": [
    {
     "name": "stdout",
     "output_type": "stream",
     "text": [
      "Epoch 1/100 | Avg Train loss: 3.7593 | Avg Val loss: 3.9727\n",
      "Epoch 6/100 | Avg Train loss: 3.7058 | Avg Val loss: 3.9714\n",
      "Epoch 11/100 | Avg Train loss: 3.6927 | Avg Val loss: 3.9882\n",
      "Epoch 16/100 | Avg Train loss: 3.6882 | Avg Val loss: 3.9904\n",
      "Epoch 21/100 | Avg Train loss: 3.6798 | Avg Val loss: 3.9921\n",
      "Epoch 26/100 | Avg Train loss: 3.6769 | Avg Val loss: 3.9964\n",
      "Epoch 31/100 | Avg Train loss: 3.6731 | Avg Val loss: 3.9942\n",
      "Epoch 36/100 | Avg Train loss: 3.6696 | Avg Val loss: 3.9951\n",
      "Epoch 41/100 | Avg Train loss: 3.6474 | Avg Val loss: 3.9743\n",
      "Epoch 46/100 | Avg Train loss: 3.6231 | Avg Val loss: 3.9619\n",
      "Epoch 51/100 | Avg Train loss: 3.6019 | Avg Val loss: 3.9740\n",
      "Epoch 56/100 | Avg Train loss: 3.5905 | Avg Val loss: 3.9050\n",
      "Epoch 61/100 | Avg Train loss: 3.5823 | Avg Val loss: 3.8778\n",
      "Epoch 66/100 | Avg Train loss: 3.5765 | Avg Val loss: 3.8973\n",
      "Epoch 71/100 | Avg Train loss: 3.5725 | Avg Val loss: 3.8956\n",
      "Epoch 76/100 | Avg Train loss: 3.5699 | Avg Val loss: 3.8967\n",
      "Epoch 81/100 | Avg Train loss: 3.5629 | Avg Val loss: 3.9545\n",
      "Epoch 86/100 | Avg Train loss: 3.5586 | Avg Val loss: 3.9544\n",
      "Epoch 91/100 | Avg Train loss: 3.5593 | Avg Val loss: 3.9161\n",
      "Epoch 96/100 | Avg Train loss: 3.5561 | Avg Val loss: 3.9333\n",
      "Epoch 100/100 | Avg Train loss: 3.5526 | Avg Val loss: 3.9215\n"
     ]
    }
   ],
   "source": [
    "for e in range(EPOCH):\n",
    "    losses_train = []\n",
    "    losses_val = []\n",
    "    \n",
    "    for train in train_dataloader:\n",
    "        optimizer.zero_grad()\n",
    "        \n",
    "        out_act, out_emo = model_EP(train['keys'].to(device))\n",
    "        loss_act = criterion(out_act, train['action'].to(device))\n",
    "        loss_emo = criterion(out_emo, train['emotion'].to(device))\n",
    "        \n",
    "        loss_t = loss_act + loss_emo\n",
    "        losses_train.append(loss_t.item())\n",
    "        \n",
    "        loss_t.backward()\n",
    "        optimizer.step()        \n",
    "        \n",
    "    with torch.no_grad():\n",
    "        for val in val_dataloader:        \n",
    "            out_act, out_emo = model_EP(val['keys'].to(device))\n",
    "            loss_act = criterion(out_act, val['action'].to(device))\n",
    "            loss_emo = criterion(out_emo, val['emotion'].to(device))\n",
    "\n",
    "            loss_v = loss_act + loss_emo\n",
    "            losses_val.append(loss_v.item())\n",
    "    \n",
    "    avgLoss_train = np.mean(np.array(losses_train))\n",
    "    avgLoss_val = np.mean(np.array(losses_val))\n",
    "    \n",
    "    loss_train.append(avgLoss_train)\n",
    "    loss_val.append(avgLoss_val)\n",
    "    \n",
    "    if e % 5 == 0:\n",
    "        print(f'Epoch {e+1}/{EPOCH} | Avg Train loss: {avgLoss_train:.4f} | Avg Val loss: {avgLoss_val:.4f}')\n",
    "        \n",
    "print(f'Epoch {e+1}/{EPOCH} | Avg Train loss: {avgLoss_train:.4f} | Avg Val loss: {avgLoss_val:.4f}')"
   ]
  },
  {
   "cell_type": "code",
   "execution_count": 44,
   "metadata": {},
   "outputs": [],
   "source": [
    "#torch.cuda.empty_cache()"
   ]
  },
  {
   "cell_type": "code",
   "execution_count": 43,
   "metadata": {
    "scrolled": false
   },
   "outputs": [
    {
     "data": {
      "image/png": "[encoded data removed]",
      "text/plain": [
       "<Figure size 600x400 with 1 Axes>"
      ]
     },
     "metadata": {},
     "output_type": "display_data"
    },
    {
     "data": {
      "image/png": "[encoded data removed]",
      "text/plain": [
       "<Figure size 600x400 with 1 Axes>"
      ]
     },
     "metadata": {},
     "output_type": "display_data"
    }
   ],
   "source": [
    "show_loss(loss_train)\n",
    "show_loss(loss_val)"
   ]
  },
  {
   "cell_type": "code",
   "execution_count": 16,
   "metadata": {},
   "outputs": [],
   "source": [
    "# saving model state\n",
    "torch.save(model_EP.state_dict(), 'state/model_EP4')"
   ]
  },
  {
   "cell_type": "code",
   "execution_count": 17,
   "metadata": {},
   "outputs": [],
   "source": [
    "# saving loss values\n",
    "with open('state/loss_EP4_v.pkl','wb') as f:\n",
    "    pickle.dump(loss_val, f)"
   ]
  },
  {
   "cell_type": "markdown",
   "metadata": {},
   "source": [
    "### 3.3 Test"
   ]
  },
  {
   "cell_type": "code",
   "execution_count": 86,
   "metadata": {},
   "outputs": [],
   "source": [
    "model_EP = model_EP.eval()\n",
    "p = model_EP(train_keys['keys'].to(device))"
   ]
  },
  {
   "cell_type": "code",
   "execution_count": 87,
   "metadata": {
    "scrolled": true
   },
   "outputs": [
    {
     "data": {
      "text/plain": [
       "tensor([0.2040, 0.1622, 0.1962, 0.1101, 0.1070, 0.2205], device='cuda:0',\n",
       "       dtype=torch.float64, grad_fn=<SelectBackward0>)"
      ]
     },
     "execution_count": 87,
     "metadata": {},
     "output_type": "execute_result"
    }
   ],
   "source": [
    "p[1][0]"
   ]
  },
  {
   "cell_type": "code",
   "execution_count": 88,
   "metadata": {},
   "outputs": [
    {
     "data": {
      "text/plain": [
       "tensor([0., 0., 0., 1., 0., 0.])"
      ]
     },
     "execution_count": 88,
     "metadata": {},
     "output_type": "execute_result"
    }
   ],
   "source": [
    "train_keys['emotion'][0]"
   ]
  },
  {
   "cell_type": "markdown",
   "metadata": {},
   "source": [
    "### 3.4 Loading"
   ]
  },
  {
   "cell_type": "code",
   "execution_count": 13,
   "metadata": {},
   "outputs": [
    {
     "data": {
      "text/plain": [
       "<All keys matched successfully>"
      ]
     },
     "execution_count": 13,
     "metadata": {},
     "output_type": "execute_result"
    }
   ],
   "source": [
    "# loading previous model state\n",
    "model_EP.load_state_dict(torch.load('state/model_EP_B256_E1_L2e-5'))"
   ]
  },
  {
   "cell_type": "code",
   "execution_count": 28,
   "metadata": {},
   "outputs": [],
   "source": [
    "# loading previous loss values\n",
    "with open('state/loss_EP3_Lin_E1.pkl','rb') as f:\n",
    "    loss_train = pickle.load(f)"
   ]
  },
  {
   "cell_type": "markdown",
   "metadata": {
    "id": "VPWHjv1yMOAT"
   },
   "source": [
    "# Memo"
   ]
  },
  {
   "cell_type": "markdown",
   "metadata": {},
   "source": [
    "Positional Embedding 문제  \n",
    "Training set은 17 정도가 끝인데  \n",
    "Val set은 0 ~ 178까지 다양하다  \n",
    "learnable한 embedding을 사용한다면 17 이후의 embedding은 학습되지 않을 것이다.  "
   ]
  }
 ],
 "metadata": {
  "colab": {
   "collapsed_sections": [
    "FefvRGVlNsrY",
    "41bktgOJNRbe",
    "WC_OZJ0FNWRH",
    "YtdbQteZgr7q",
    "zl0OJZVbgFV_",
    "ttvZkYdqpC5-",
    "lAJ48o0KOwEF",
    "6MydEmH5fiCq",
    "U2M1gRU9Ntbo",
    "pUN8Ycd0ufOy",
    "TpFZ2G1SHsE3",
    "VPWHjv1yMOAT"
   ],
   "provenance": []
  },
  "gpuClass": "standard",
  "kernelspec": {
   "display_name": "Python 3 (ipykernel)",
   "language": "python",
   "name": "python3"
  },
  "language_info": {
   "codemirror_mode": {
    "name": "ipython",
    "version": 3
   },
   "file_extension": ".py",
   "mimetype": "text/x-python",
   "name": "python",
   "nbconvert_exporter": "python",
   "pygments_lexer": "ipython3",
   "version": "3.10.11"
  }
 },
 "nbformat": 4,
 "nbformat_minor": 1
}
